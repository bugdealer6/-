{
 "cells": [
  {
   "cell_type": "code",
   "execution_count": 17,
   "id": "056c19c3",
   "metadata": {},
   "outputs": [
    {
     "name": "stdout",
     "output_type": "stream",
     "text": [
      "0    0\n",
      "1    1\n",
      "2    2\n",
      "dtype: int64\n"
     ]
    }
   ],
   "source": [
    "import pandas as pd\n",
    "import numpy as np\n"
   ]
  },
  {
   "cell_type": "code",
   "execution_count": 164,
   "id": "225ce992",
   "metadata": {},
   "outputs": [
    {
     "name": "stdout",
     "output_type": "stream",
     "text": [
      "0    0\n",
      "1    1\n",
      "2    2\n",
      "3    3\n",
      "4    4\n",
      "dtype: int32\n",
      "1\n",
      "5\n",
      "(5,)\n",
      "int32\n",
      "<class 'pandas.core.series.Series'>\n",
      "5\n",
      "RangeIndex(start=0, stop=5, step=1)\n",
      "<class 'pandas.core.indexes.range.RangeIndex'>\n",
      "5\n",
      "5\n",
      "5\n"
     ]
    }
   ],
   "source": [
    "#Series\n",
    "a=pd.Series([0,1,2])\n",
    "a=pd.Series(np.arange(5))\n",
    "print(a)\n",
    "print(a.ndim)\n",
    "print(a.size)\n",
    "print(a.shape)\n",
    "print(a.dtypes)\n",
    "print(type(a))\n",
    "#序列中有多少行数据\n",
    "print(a.size)\n",
    "print(a.index)\n",
    "print(type(a.index))#<class 'pandas.core.indexes.range.RangeIndex'>\n",
    "print(a.index.size)\n",
    "print(a.count())#方法，不是属性\n",
    "print(len(a))"
   ]
  },
  {
   "cell_type": "code",
   "execution_count": 257,
   "id": "0f98a1f7",
   "metadata": {},
   "outputs": [
    {
     "name": "stdout",
     "output_type": "stream",
     "text": [
      "   0\n",
      "0  0\n",
      "1  1\n",
      "2  2\n",
      "3  3\n",
      "4  4\n",
      "3\n",
      "6\n"
     ]
    }
   ],
   "source": [
    "a1=pd.DataFrame(a)\n",
    "print(a1)\n",
    "#二维数组转化为数据框\n",
    "a1=np.arange(6).reshape(3,2)\n",
    "a1=pd.DataFrame(a1,columns=['m','n'])\n",
    "print(a1.shape[0])#返回元组类型\n",
    "print(a1.size)"
   ]
  },
  {
   "cell_type": "code",
   "execution_count": 258,
   "id": "8af3ebbb",
   "metadata": {},
   "outputs": [
    {
     "name": "stdout",
     "output_type": "stream",
     "text": [
      "<class 'tuple'>\n"
     ]
    },
    {
     "data": {
      "text/plain": [
       "1"
      ]
     },
     "execution_count": 258,
     "metadata": {},
     "output_type": "execute_result"
    }
   ],
   "source": [
    "a1_=(1,2,3)\n",
    "print(type(a1_))\n",
    "a1_[0]"
   ]
  },
  {
   "cell_type": "code",
   "execution_count": 259,
   "id": "4fe85722",
   "metadata": {},
   "outputs": [
    {
     "data": {
      "text/plain": [
       "2"
      ]
     },
     "execution_count": 259,
     "metadata": {},
     "output_type": "execute_result"
    }
   ],
   "source": [
    "#range\n",
    "a2=pd.DataFrame(np.array(range(10)).reshape(2,5))#reshape是数组专有的方法\n",
    "a2.shape[0]"
   ]
  },
  {
   "cell_type": "code",
   "execution_count": 262,
   "id": "1d661ef0",
   "metadata": {},
   "outputs": [
    {
     "name": "stdout",
     "output_type": "stream",
     "text": [
      "   0  1  2\n",
      "0  0  1  2\n",
      "1  3  4  5\n",
      "1\n"
     ]
    },
    {
     "data": {
      "text/plain": [
       "0    2\n",
       "1    2\n",
       "2    2\n",
       "dtype: int64"
      ]
     },
     "execution_count": 262,
     "metadata": {},
     "output_type": "execute_result"
    }
   ],
   "source": [
    "#array\n",
    "a3=pd.DataFrame(np.array([[0,1,2],\n",
    "                        [3,4,5]]))\n",
    "print(a3)\n",
    "print(a3[1][0])"
   ]
  },
  {
   "cell_type": "code",
   "execution_count": 261,
   "id": "c202ebd5",
   "metadata": {},
   "outputs": [
    {
     "name": "stdout",
     "output_type": "stream",
     "text": [
      "m    0\n",
      "n    1\n",
      "Name: a, dtype: int32\n",
      "m    0\n",
      "n    1\n",
      "Name: a, dtype: int32\n"
     ]
    }
   ],
   "source": [
    "#Series的显式和隐式索引\n",
    "a1.index=['a','b','c']\n",
    "print(a1.loc['a'])#显式索引\n",
    "print(a1.iloc[0])#隐式索引"
   ]
  },
  {
   "cell_type": "code",
   "execution_count": 48,
   "id": "a996460d",
   "metadata": {},
   "outputs": [
    {
     "data": {
      "text/html": [
       "<div>\n",
       "<style scoped>\n",
       "    .dataframe tbody tr th:only-of-type {\n",
       "        vertical-align: middle;\n",
       "    }\n",
       "\n",
       "    .dataframe tbody tr th {\n",
       "        vertical-align: top;\n",
       "    }\n",
       "\n",
       "    .dataframe thead th {\n",
       "        text-align: right;\n",
       "    }\n",
       "</style>\n",
       "<table border=\"1\" class=\"dataframe\">\n",
       "  <thead>\n",
       "    <tr style=\"text-align: right;\">\n",
       "      <th></th>\n",
       "      <th>types</th>\n",
       "      <th>data</th>\n",
       "    </tr>\n",
       "  </thead>\n",
       "  <tbody>\n",
       "    <tr>\n",
       "      <th>0</th>\n",
       "      <td>m</td>\n",
       "      <td>30</td>\n",
       "    </tr>\n",
       "    <tr>\n",
       "      <th>1</th>\n",
       "      <td>q</td>\n",
       "      <td>40</td>\n",
       "    </tr>\n",
       "  </tbody>\n",
       "</table>\n",
       "</div>"
      ],
      "text/plain": [
       "  types  data\n",
       "0     m    30\n",
       "1     q    40"
      ]
     },
     "execution_count": 48,
     "metadata": {},
     "output_type": "execute_result"
    }
   ],
   "source": [
    "#字典嵌套列表转化为数据框\n",
    "\n",
    "\n",
    "dict1={'types':['m','q'],'data':[30,40]}\n",
    "pd.DataFrame(dict1)"
   ]
  },
  {
   "cell_type": "code",
   "execution_count": 269,
   "id": "e17bb049",
   "metadata": {},
   "outputs": [
    {
     "data": {
      "text/plain": [
       "array([0, 3])"
      ]
     },
     "execution_count": 269,
     "metadata": {},
     "output_type": "execute_result"
    }
   ],
   "source": [
    "#数据框的一列等于series\n",
    "a3\n",
    "a3[0].values"
   ]
  },
  {
   "cell_type": "code",
   "execution_count": 283,
   "id": "84cbc836",
   "metadata": {},
   "outputs": [],
   "source": [
    "df2 = pd.read_excel('D:/Python/data1.xlsx',names=['xxx','yyy'], skiprows=0, dtype={0: str},\n",
    "                    index_col=0)"
   ]
  },
  {
   "cell_type": "code",
   "execution_count": 284,
   "id": "ec6e54f7",
   "metadata": {},
   "outputs": [
    {
     "name": "stdout",
     "output_type": "stream",
     "text": [
      "      yyy\n",
      "xxx      \n",
      "4.2   8.4\n",
      "5.9  11.7\n",
      "      yyy\n",
      "xxx      \n",
      "4.2   8.4\n",
      "5.9  11.7\n",
      "2.7   4.2\n",
      "3.8   6.1\n",
      "3.8   7.9\n"
     ]
    }
   ],
   "source": [
    "#读取数据前两行\n",
    "print(df2.head(2))\n",
    "print(df2.head())\n"
   ]
  },
  {
   "cell_type": "code",
   "execution_count": 286,
   "id": "61bfacf6",
   "metadata": {},
   "outputs": [
    {
     "name": "stdout",
     "output_type": "stream",
     "text": [
      "19\n",
      "19\n",
      "19\n",
      "<class 'pandas.core.series.Series'>\n",
      "19\n",
      "xxx\n",
      "4.2     8.4\n",
      "5.9    11.7\n",
      "2.7     4.2\n",
      "3.8     6.1\n",
      "3.8     7.9\n",
      "5.6    10.2\n",
      "6.9    13.2\n",
      "3.5     6.6\n",
      "3.6     6.0\n",
      "2.9     4.6\n",
      "4.2     8.4\n",
      "6.1    12.0\n",
      "5.5    10.3\n",
      "6.6    13.3\n",
      "2.9     4.6\n",
      "3.3     6.7\n",
      "5.9    10.8\n",
      "6.0    11.5\n",
      "5.6     9.9\n",
      "Name: yyy, dtype: float64\n",
      "      yyy\n",
      "xxx      \n",
      "4.2   8.4\n",
      "5.9  11.7\n",
      "2.7   4.2\n",
      "3.8   6.1\n",
      "3.8   7.9\n",
      "5.6  10.2\n",
      "6.9  13.2\n",
      "3.5   6.6\n",
      "3.6   6.0\n",
      "2.9   4.6\n",
      "4.2   8.4\n",
      "6.1  12.0\n",
      "5.5  10.3\n",
      "6.6  13.3\n",
      "2.9   4.6\n",
      "3.3   6.7\n",
      "5.9  10.8\n",
      "6.0  11.5\n",
      "5.6   9.9\n",
      "[ 8.4 11.7  4.2  6.1  7.9 10.2 13.2  6.6  6.   4.6  8.4 12.  10.3 13.3\n",
      "  4.6  6.7 10.8 11.5  9.9]\n"
     ]
    }
   ],
   "source": [
    "#查看数据框有多少行\n",
    "print(df2.size)\n",
    "print(df2.index.size)\n",
    "print(len(df2)) \n",
    "print(type(df2.count()))#<class 'pandas.core.series.Series'>\n",
    "print(df2.count()[0])\n",
    "#打印第一列数据\n",
    "#print(df2[0])报错\n",
    "print(df2.iloc[:,0])\n",
    "#df[0].count\n",
    "# df.count\n",
    "print(df2)\n",
    "print(df2['yyy'].values)#实际的列名\n"
   ]
  },
  {
   "cell_type": "code",
   "execution_count": 275,
   "id": "17ebd359",
   "metadata": {},
   "outputs": [],
   "source": [
    "df2=pd.read_excel('D:/Python/data1.xlsx',sheet_name=0)"
   ]
  },
  {
   "cell_type": "code",
   "execution_count": 238,
   "id": "0d56e1a7",
   "metadata": {},
   "outputs": [
    {
     "name": "stdout",
     "output_type": "stream",
     "text": [
      "     sno sname sex  sage dept\n",
      "0  23001    王平   男    19  计算机\n",
      "1  23002    张云   女    18  大数据\n",
      "2  23003    刘武   男    20  统计系\n"
     ]
    }
   ],
   "source": [
    "df2=pd.read_csv('D:/Python/person2.txt',names=['sno','sname','sex','sage','dept'],skiprows=1,sep=' ')\n",
    "#df2=pd.read_csv('D:/Python/person2.txt',names=['sno','sname','sex','sage','dept'],skiprows=1)#缺少分隔符后，空格也被读入\n",
    "print(df2)\n",
    "#df2=pd.read_csv('D:/Python/person2.txt',skiprows=1)\n",
    "df2.to_csv('D:/Python/df2_.txt',sep='\\t',index=True)\n",
    "df2.to_csv('D:/Python/df2__.txt',sep='\\t',index=False)#默认为：index=False"
   ]
  },
  {
   "cell_type": "code",
   "execution_count": 239,
   "id": "419be327",
   "metadata": {},
   "outputs": [],
   "source": [
    "df2=pd.read_json('D:/Python/person5.json',orient='split')"
   ]
  },
  {
   "cell_type": "code",
   "execution_count": 240,
   "id": "fab6b25e",
   "metadata": {},
   "outputs": [],
   "source": [
    "df3=pd.read_json('D:/Python/person6.json',orient='record')"
   ]
  },
  {
   "cell_type": "code",
   "execution_count": 243,
   "id": "33afb430",
   "metadata": {},
   "outputs": [
    {
     "name": "stdout",
     "output_type": "stream",
     "text": [
      "   index columns        data\n",
      "0      1    name  [lily, 28]\n",
      "1      2     age   [tom, 20]\n",
      "   name  age  dept\n",
      "0  lily   18  math\n",
      "1   tom   19    ai\n"
     ]
    }
   ],
   "source": [
    "print(df2)\n",
    "print(df3)\n",
    "#将数据框写入json文件\n",
    "df2.to_json('D:/Python/a.json')"
   ]
  },
  {
   "cell_type": "code",
   "execution_count": 249,
   "id": "c7180dd2",
   "metadata": {},
   "outputs": [],
   "source": [
    "#\n",
    "df1=pd.read_csv('D:/Python/person1.txt',encoding='gbk')"
   ]
  },
  {
   "cell_type": "code",
   "execution_count": 247,
   "id": "2919bd70",
   "metadata": {},
   "outputs": [
    {
     "data": {
      "text/html": [
       "<div>\n",
       "<style scoped>\n",
       "    .dataframe tbody tr th:only-of-type {\n",
       "        vertical-align: middle;\n",
       "    }\n",
       "\n",
       "    .dataframe tbody tr th {\n",
       "        vertical-align: top;\n",
       "    }\n",
       "\n",
       "    .dataframe thead th {\n",
       "        text-align: right;\n",
       "    }\n",
       "</style>\n",
       "<table border=\"1\" class=\"dataframe\">\n",
       "  <thead>\n",
       "    <tr style=\"text-align: right;\">\n",
       "      <th></th>\n",
       "      <th>学号 姓名 性别 年龄</th>\n",
       "    </tr>\n",
       "  </thead>\n",
       "  <tbody>\n",
       "    <tr>\n",
       "      <th>0</th>\n",
       "      <td>23001 王平 男 19</td>\n",
       "    </tr>\n",
       "    <tr>\n",
       "      <th>1</th>\n",
       "      <td>23002 张云 女 18</td>\n",
       "    </tr>\n",
       "    <tr>\n",
       "      <th>2</th>\n",
       "      <td>23001 刘武 男 20</td>\n",
       "    </tr>\n",
       "  </tbody>\n",
       "</table>\n",
       "</div>"
      ],
      "text/plain": [
       "     学号 姓名 性别 年龄\n",
       "0  23001 王平 男 19\n",
       "1  23002 张云 女 18\n",
       "2  23001 刘武 男 20"
      ]
     },
     "execution_count": 247,
     "metadata": {},
     "output_type": "execute_result"
    }
   ],
   "source": [
    "df1"
   ]
  },
  {
   "cell_type": "code",
   "execution_count": null,
   "id": "2e299a0c",
   "metadata": {},
   "outputs": [],
   "source": []
  }
 ],
 "metadata": {
  "kernelspec": {
   "display_name": "Python 3",
   "language": "python",
   "name": "python3"
  },
  "language_info": {
   "codemirror_mode": {
    "name": "ipython",
    "version": 3
   },
   "file_extension": ".py",
   "mimetype": "text/x-python",
   "name": "python",
   "nbconvert_exporter": "python",
   "pygments_lexer": "ipython3",
   "version": "3.8.8"
  }
 },
 "nbformat": 4,
 "nbformat_minor": 5
}
